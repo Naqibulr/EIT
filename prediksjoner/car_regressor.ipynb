{
 "cells": [
  {
   "cell_type": "code",
   "execution_count": 1,
   "metadata": {},
   "outputs": [],
   "source": [
    "import pandas as pd\n",
    "\n",
    "traffic_df = pd.read_csv('trafikkdata.csv', sep=';')"
   ]
  },
  {
   "cell_type": "code",
   "execution_count": 2,
   "metadata": {},
   "outputs": [
    {
     "data": {
      "text/html": [
       "<div>\n",
       "<style scoped>\n",
       "    .dataframe tbody tr th:only-of-type {\n",
       "        vertical-align: middle;\n",
       "    }\n",
       "\n",
       "    .dataframe tbody tr th {\n",
       "        vertical-align: top;\n",
       "    }\n",
       "\n",
       "    .dataframe thead th {\n",
       "        text-align: right;\n",
       "    }\n",
       "</style>\n",
       "<table border=\"1\" class=\"dataframe\">\n",
       "  <thead>\n",
       "    <tr style=\"text-align: right;\">\n",
       "      <th></th>\n",
       "      <th>Dato</th>\n",
       "      <th>Fra tidspunkt</th>\n",
       "      <th>Til tidspunkt</th>\n",
       "      <th>Trafikkmengde</th>\n",
       "    </tr>\n",
       "  </thead>\n",
       "  <tbody>\n",
       "    <tr>\n",
       "      <th>count</th>\n",
       "      <td>8784</td>\n",
       "      <td>8784</td>\n",
       "      <td>8784</td>\n",
       "      <td>8784</td>\n",
       "    </tr>\n",
       "    <tr>\n",
       "      <th>unique</th>\n",
       "      <td>366</td>\n",
       "      <td>24</td>\n",
       "      <td>24</td>\n",
       "      <td>2108</td>\n",
       "    </tr>\n",
       "    <tr>\n",
       "      <th>top</th>\n",
       "      <td>2022-10-30</td>\n",
       "      <td>00:00</td>\n",
       "      <td>01:00</td>\n",
       "      <td>68</td>\n",
       "    </tr>\n",
       "    <tr>\n",
       "      <th>freq</th>\n",
       "      <td>25</td>\n",
       "      <td>366</td>\n",
       "      <td>366</td>\n",
       "      <td>37</td>\n",
       "    </tr>\n",
       "  </tbody>\n",
       "</table>\n",
       "</div>"
      ],
      "text/plain": [
       "              Dato Fra tidspunkt Til tidspunkt Trafikkmengde\n",
       "count         8784          8784          8784          8784\n",
       "unique         366            24            24          2108\n",
       "top     2022-10-30         00:00         01:00            68\n",
       "freq            25           366           366            37"
      ]
     },
     "execution_count": 2,
     "metadata": {},
     "output_type": "execute_result"
    }
   ],
   "source": [
    "traffic_df.describe(include='all')"
   ]
  },
  {
   "cell_type": "code",
   "execution_count": 3,
   "metadata": {},
   "outputs": [],
   "source": [
    "traffic_df['Date'] = pd.to_datetime(traffic_df['Dato'], format='%Y-%m-%d')\n",
    "traffic_df['Hour'] = pd.to_datetime(traffic_df['Fra tidspunkt'], format='%H:%M').dt.hour\n",
    "\n",
    "traffic_df['year'] = traffic_df['Date'].dt.year\n",
    "traffic_df['month'] = traffic_df['Date'].dt.month\n",
    "traffic_df['day'] = traffic_df['Date'].dt.day\n",
    "\n",
    "traffic_df = traffic_df.drop(columns=['Dato', 'Fra tidspunkt', 'Til tidspunkt', 'Date'])\n",
    "traffic_df['Trafikkmengde'] = pd.to_numeric(traffic_df['Trafikkmengde'], errors='coerce')\n"
   ]
  },
  {
   "cell_type": "code",
   "execution_count": 4,
   "metadata": {},
   "outputs": [],
   "source": [
    "from sklearn.impute import KNNImputer\n",
    "\n",
    "imputer = KNNImputer(n_neighbors=5)\n",
    "\n",
    "traffic_df = pd.DataFrame(imputer.fit_transform(traffic_df), columns=traffic_df.columns)"
   ]
  },
  {
   "cell_type": "code",
   "execution_count": 5,
   "metadata": {},
   "outputs": [
    {
     "data": {
      "text/html": [
       "<div>\n",
       "<style scoped>\n",
       "    .dataframe tbody tr th:only-of-type {\n",
       "        vertical-align: middle;\n",
       "    }\n",
       "\n",
       "    .dataframe tbody tr th {\n",
       "        vertical-align: top;\n",
       "    }\n",
       "\n",
       "    .dataframe thead th {\n",
       "        text-align: right;\n",
       "    }\n",
       "</style>\n",
       "<table border=\"1\" class=\"dataframe\">\n",
       "  <thead>\n",
       "    <tr style=\"text-align: right;\">\n",
       "      <th></th>\n",
       "      <th>Trafikkmengde</th>\n",
       "      <th>Hour</th>\n",
       "      <th>year</th>\n",
       "      <th>month</th>\n",
       "      <th>day</th>\n",
       "    </tr>\n",
       "  </thead>\n",
       "  <tbody>\n",
       "    <tr>\n",
       "      <th>count</th>\n",
       "      <td>8784.000000</td>\n",
       "      <td>8784.000000</td>\n",
       "      <td>8784.000000</td>\n",
       "      <td>8784.000000</td>\n",
       "      <td>8784.000000</td>\n",
       "    </tr>\n",
       "    <tr>\n",
       "      <th>mean</th>\n",
       "      <td>929.319148</td>\n",
       "      <td>11.500000</td>\n",
       "      <td>2022.745788</td>\n",
       "      <td>6.533584</td>\n",
       "      <td>15.760018</td>\n",
       "    </tr>\n",
       "    <tr>\n",
       "      <th>std</th>\n",
       "      <td>639.366297</td>\n",
       "      <td>6.922581</td>\n",
       "      <td>0.435442</td>\n",
       "      <td>3.445747</td>\n",
       "      <td>8.816924</td>\n",
       "    </tr>\n",
       "    <tr>\n",
       "      <th>min</th>\n",
       "      <td>27.000000</td>\n",
       "      <td>0.000000</td>\n",
       "      <td>2022.000000</td>\n",
       "      <td>1.000000</td>\n",
       "      <td>1.000000</td>\n",
       "    </tr>\n",
       "    <tr>\n",
       "      <th>25%</th>\n",
       "      <td>306.000000</td>\n",
       "      <td>5.750000</td>\n",
       "      <td>2022.000000</td>\n",
       "      <td>4.000000</td>\n",
       "      <td>8.000000</td>\n",
       "    </tr>\n",
       "    <tr>\n",
       "      <th>50%</th>\n",
       "      <td>894.000000</td>\n",
       "      <td>11.500000</td>\n",
       "      <td>2023.000000</td>\n",
       "      <td>7.000000</td>\n",
       "      <td>16.000000</td>\n",
       "    </tr>\n",
       "    <tr>\n",
       "      <th>75%</th>\n",
       "      <td>1504.000000</td>\n",
       "      <td>17.250000</td>\n",
       "      <td>2023.000000</td>\n",
       "      <td>10.000000</td>\n",
       "      <td>23.000000</td>\n",
       "    </tr>\n",
       "    <tr>\n",
       "      <th>max</th>\n",
       "      <td>2438.000000</td>\n",
       "      <td>23.000000</td>\n",
       "      <td>2023.000000</td>\n",
       "      <td>12.000000</td>\n",
       "      <td>31.000000</td>\n",
       "    </tr>\n",
       "  </tbody>\n",
       "</table>\n",
       "</div>"
      ],
      "text/plain": [
       "       Trafikkmengde         Hour         year        month          day\n",
       "count    8784.000000  8784.000000  8784.000000  8784.000000  8784.000000\n",
       "mean      929.319148    11.500000  2022.745788     6.533584    15.760018\n",
       "std       639.366297     6.922581     0.435442     3.445747     8.816924\n",
       "min        27.000000     0.000000  2022.000000     1.000000     1.000000\n",
       "25%       306.000000     5.750000  2022.000000     4.000000     8.000000\n",
       "50%       894.000000    11.500000  2023.000000     7.000000    16.000000\n",
       "75%      1504.000000    17.250000  2023.000000    10.000000    23.000000\n",
       "max      2438.000000    23.000000  2023.000000    12.000000    31.000000"
      ]
     },
     "execution_count": 5,
     "metadata": {},
     "output_type": "execute_result"
    }
   ],
   "source": [
    "traffic_df.describe(include='all')"
   ]
  },
  {
   "cell_type": "code",
   "execution_count": 6,
   "metadata": {},
   "outputs": [],
   "source": [
    "# Divided the data into two dataframes randomly 80% and 20%\n",
    "\n",
    "train = traffic_df.sample(frac=0.8, random_state=42)\n",
    "test = traffic_df.drop(train.index)\n",
    "\n",
    "X_train = train.drop(columns=['Trafikkmengde'])\n",
    "y_train = train['Trafikkmengde']\n",
    "\n",
    "X_test = test.drop(columns=['Trafikkmengde'])\n",
    "y_test = test['Trafikkmengde']\n"
   ]
  },
  {
   "cell_type": "code",
   "execution_count": 7,
   "metadata": {},
   "outputs": [
    {
     "name": "stdout",
     "output_type": "stream",
     "text": [
      "Mean Squared Error: 56616.20765917814\n",
      "Mean Absolute Error: 171.29296983494592\n",
      "R2 Score: 0.8643761213580394\n"
     ]
    }
   ],
   "source": [
    "from sklearn.ensemble import RandomForestRegressor\n",
    "from sklearn.metrics import mean_squared_error,mean_absolute_error, r2_score\n",
    "\n",
    "model = RandomForestRegressor( random_state=42)\n",
    "model.fit(X_train, y_train)\n",
    "\n",
    "y_pred = model.predict(X_test)\n",
    "\n",
    "print('Mean Squared Error:', mean_squared_error(y_test, y_pred))\n",
    "print('Mean Absolute Error:', mean_absolute_error(y_test, y_pred))\n",
    "print('R2 Score:', r2_score(y_test, y_pred))\n",
    "\n",
    "\n"
   ]
  },
  {
   "cell_type": "code",
   "execution_count": 8,
   "metadata": {},
   "outputs": [
    {
     "name": "stdout",
     "output_type": "stream",
     "text": [
      "Mean Squared Error: 40202.64514917007\n",
      "Mean Absolute Error: 136.92877053762606\n",
      "R2 Score: 0.9036947387995362\n"
     ]
    }
   ],
   "source": [
    "from xgboost import XGBRegressor\n",
    "\n",
    "model = XGBRegressor( random_state=42)\n",
    "model.fit(X_train, y_train)\n",
    "\n",
    "y_pred = model.predict(X_test)\n",
    "\n",
    "print('Mean Squared Error:', mean_squared_error(y_test, y_pred))\n",
    "print('Mean Absolute Error:', mean_absolute_error(y_test, y_pred))\n",
    "print('R2 Score:', r2_score(y_test, y_pred))\n",
    "\n",
    "\n",
    "model.save_model('models/traffic_model.json')"
   ]
  }
 ],
 "metadata": {
  "kernelspec": {
   "display_name": "venv",
   "language": "python",
   "name": "python3"
  },
  "language_info": {
   "codemirror_mode": {
    "name": "ipython",
    "version": 3
   },
   "file_extension": ".py",
   "mimetype": "text/x-python",
   "name": "python",
   "nbconvert_exporter": "python",
   "pygments_lexer": "ipython3",
   "version": "3.13.2"
  }
 },
 "nbformat": 4,
 "nbformat_minor": 2
}
